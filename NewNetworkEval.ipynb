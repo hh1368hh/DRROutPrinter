{
 "cells": [
  {
   "cell_type": "code",
   "execution_count": 27,
   "metadata": {},
   "outputs": [],
   "source": [
    "from ipywidgets import interact, fixed\n",
    "import matplotlib.pyplot as plt\n",
    "from utl.Validating import UnetValidatingApp\n",
    "import SimpleITK as sitk\n",
    "import numpy as np\n",
    "import astra\n",
    "import torch\n",
    "import torchvision.transforms as transforms\n",
    "import scipy as sp\n",
    "import scipy.ndimage\n",
    "import torch\n",
    "from util.imageprocessing import rescale\n",
    "import numpy as np\n",
    "\n"
   ]
  },
  {
   "cell_type": "code",
   "execution_count": 28,
   "metadata": {},
   "outputs": [],
   "source": [
    "\n",
    "def display_images_with_alpha_numpy(image_z, alpha, fixed, moving):\n",
    "    img = (1.0 - alpha)*fixed[image_z,:,:] + alpha*moving[image_z,:,:] \n",
    "    plt.figure(figsize=(16,9))\n",
    "    plt.imshow(img,cmap=plt.cm.Greys_r);\n",
    "    plt.axis('off')\n",
    "    plt.show()"
   ]
  },
  {
   "cell_type": "code",
   "execution_count": 29,
   "metadata": {},
   "outputs": [
    {
     "name": "stdout",
     "output_type": "stream",
     "text": [
      "Testing on cuda.\n",
      "initialize network with normal\n",
      "initialize network with normal\n",
      "the file name are \n",
      "\n",
      "\n",
      " Small FOV \n",
      "\n",
      "('Data\\\\SFOV\\\\P00_CT0_SFOV_S074_0.nii', 'Data\\\\SFOV\\\\P00_CT0_SFOV_S074_1.nii', 'Data\\\\SFOV\\\\P00_CT0_SFOV_S074_2.nii')\n",
      "\n",
      " CTD \n",
      "\n",
      "('Data\\\\CTD\\\\P00_CTD_0.nii', 'Data\\\\CTD\\\\P00_CTD_1.nii', 'Data\\\\CTD\\\\P00_CTD_2.nii')\n",
      "\n",
      " Large FOV \n",
      "\n",
      "('Data\\\\LFOV\\\\P00_CT0_LFOV_S074_0.nii', 'Data\\\\LFOV\\\\P00_CT0_LFOV_S074_1.nii', 'Data\\\\LFOV\\\\P00_CT0_LFOV_S074_2.nii')\n"
     ]
    }
   ],
   "source": [
    "ValApp=UnetValidatingApp()\n",
    "\n",
    "ValApp.getCase(222)"
   ]
  },
  {
   "cell_type": "code",
   "execution_count": 30,
   "metadata": {},
   "outputs": [
    {
     "data": {
      "text/plain": [
       "(3, 512, 512)"
      ]
     },
     "execution_count": 30,
     "metadata": {},
     "output_type": "execute_result"
    }
   ],
   "source": [
    "ValApp.projo.shape"
   ]
  },
  {
   "cell_type": "code",
   "execution_count": 31,
   "metadata": {},
   "outputs": [
    {
     "data": {
      "text/plain": [
       "(6, 512, 512)"
      ]
     },
     "execution_count": 31,
     "metadata": {},
     "output_type": "execute_result"
    }
   ],
   "source": [
    "import numpy as np\n",
    "Orig=np.repeat(ValApp.projo,2,axis=0)\n",
    "Orig.shape"
   ]
  },
  {
   "cell_type": "code",
   "execution_count": 32,
   "metadata": {},
   "outputs": [
    {
     "data": {
      "application/vnd.jupyter.widget-view+json": {
       "model_id": "dd21a6cedcf04b1f81defd1d62d70740",
       "version_major": 2,
       "version_minor": 0
      },
      "text/plain": [
       "interactive(children=(IntSlider(value=2, description='image_z', max=5), FloatSlider(value=0.5, description='al…"
      ]
     },
     "metadata": {},
     "output_type": "display_data"
    }
   ],
   "source": [
    "interact(display_images_with_alpha_numpy, image_z=(0,ValApp.proji.shape[0] - 1), alpha=(0.0,1.0,0.05), fixed = fixed(ValApp.proji), moving=fixed(Orig));"
   ]
  },
  {
   "cell_type": "code",
   "execution_count": 33,
   "metadata": {},
   "outputs": [
    {
     "data": {
      "text/plain": [
       "(3, 512, 512)"
      ]
     },
     "execution_count": 33,
     "metadata": {},
     "output_type": "execute_result"
    }
   ],
   "source": [
    "a='ResultCNN_3/test_G.pth'\n",
    "# b is the best , e,f next best\n",
    "NNFileName=a\n",
    "ValApp.doValidation(NNFileName)\n",
    "ValApp.out.shape"
   ]
  },
  {
   "cell_type": "code",
   "execution_count": 34,
   "metadata": {},
   "outputs": [
    {
     "data": {
      "application/vnd.jupyter.widget-view+json": {
       "model_id": "0be8b6cd628e4df78b85dbefa7d1af0f",
       "version_major": 2,
       "version_minor": 0
      },
      "text/plain": [
       "interactive(children=(IntSlider(value=1, description='image_z', max=2), FloatSlider(value=0.5, description='al…"
      ]
     },
     "metadata": {},
     "output_type": "display_data"
    }
   ],
   "source": [
    "interact(display_images_with_alpha_numpy, image_z=(0,ValApp.out.shape[0] - 1), alpha=(0.0,1.0,0.05), fixed = fixed(ValApp.out), moving=fixed(ValApp.projo),  vmin=0.4, vmax=+1.1);"
   ]
  },
  {
   "cell_type": "code",
   "execution_count": 35,
   "metadata": {},
   "outputs": [],
   "source": [
    "\n",
    "def display_images_with_alpha_numpy(image_z, alpha, fixed, moving, vmin=[], vmax=[]):\n",
    "    img = (1.0 - alpha)*fixed[image_z,:,:] + alpha*moving[image_z,:,:] \n",
    "    plt.figure(figsize=(16,9))\n",
    "    plt.imshow(img,cmap=plt.cm.Greys_r, vmin=vmin,vmax=vmax);\n",
    "    plt.axis('off')\n",
    "    plt.show()\n",
    "\n",
    "def display_images_with_alpha_numpy1(image_z, alpha, fixed, moving):\n",
    "    img = (1.0 - alpha)*fixed[image_z,:,:] + alpha*moving[image_z,:,:] \n",
    "    plt.figure(figsize=(16,9))\n",
    "    plt.imshow(img,cmap=plt.cm.Greys_r, vmin=-0.06,vmax=0.22);\n",
    "    plt.axis('off')\n",
    "    plt.show()\n",
    "def display_images_with_alpha_numpy2(image_z, alpha, fixed, moving):\n",
    "    img = (1.0 - alpha)*fixed[image_z,:,:] + alpha*moving[image_z,:,:] \n",
    "    plt.figure(figsize=(16,9))\n",
    "    plt.imshow(img,cmap=plt.cm.Greys_r, vmin=-1,vmax=1);\n",
    "    plt.axis('off')\n",
    "    plt.show()"
   ]
  },
  {
   "cell_type": "code",
   "execution_count": 36,
   "metadata": {},
   "outputs": [],
   "source": [
    "def elastixreg(f,m,img=None):\n",
    "    fixed_image =  sitk.GetImageFromArray(f)\n",
    "    moving_image = sitk.GetImageFromArray(m)\n",
    "    \n",
    "\n",
    "    elastixImageFilter = sitk.ElastixImageFilter()\n",
    "    elastixImageFilter.SetFixedImage(fixed_image)\n",
    "    elastixImageFilter.SetMovingImage(moving_image)\n",
    "    elastixImageFilter.SetParameterMap(sitk.GetDefaultParameterMap(\"rigid\"))\n",
    "    elastixImageFilter.SetParameter('DefaultPixelValue', str(0))\n",
    "    elastixImageFilter.SetParameter('FinalBSplineInterpolationOrder ', '3')\n",
    "    elastixImageFilter.SetParameter('FixedImagePyramid ', 'FixedRecursiveImagePyramid')\n",
    "    elastixImageFilter.SetParameter('MovingImagePyramid ', 'MovingRecursiveImagePyramid')\n",
    "    elastixImageFilter.SetParameter('AutomaticTransformInitialization', 'true')\n",
    "    elastixImageFilter.SetParameter('Interpolator', 'BSplineInterpolator')\n",
    "    elastixImageFilter.SetParameter('NumberOfResolutions', '6')\n",
    "\n",
    "\n",
    "    elastixImageFilter.Execute()\n",
    "\n",
    "    if img is None: \n",
    "        RR=elastixImageFilter.GetResultImage()\n",
    "        RR=sitk.GetArrayFromImage(RR)\n",
    "\n",
    "    else:\n",
    "        thirdImage=sitk.GetImageFromArray(img)\n",
    "        transformParameterMap = elastixImageFilter.GetTransformParameterMap()\n",
    "\n",
    "        transformix = sitk.TransformixImageFilter()\n",
    "        transformix.SetTransformParameterMap(transformParameterMap)\n",
    "        transformix.SetMovingImage(thirdImage)\n",
    "\n",
    "        transformix.Execute()\n",
    "        RR=transformix.GetResultImage()\n",
    "        RR=sitk.GetArrayFromImage(RR)\n",
    "    return RR"
   ]
  },
  {
   "cell_type": "code",
   "execution_count": 37,
   "metadata": {},
   "outputs": [
    {
     "data": {
      "application/vnd.jupyter.widget-view+json": {
       "model_id": "41409a230e984110a1ec478fdf4c61f6",
       "version_major": 2,
       "version_minor": 0
      },
      "text/plain": [
       "interactive(children=(IntSlider(value=1, description='image_z', max=2), FloatSlider(value=0.5, description='al…"
      ]
     },
     "metadata": {},
     "output_type": "display_data"
    }
   ],
   "source": [
    "from utl.pytorch_morph import *\n",
    "from skimage import exposure\n",
    "from skimage.transform import resize\n",
    "out=ValApp.out\n",
    "V1f=np.zeros_like(out)\n",
    "\n",
    "for Slc in range(3):\n",
    "\n",
    "\n",
    "\n",
    "    # CTDref=CTDplan[Slc,:,:][np.newaxis,:].squeeze(0)\n",
    "    # CTDref = CTDref.squeeze(0) - CTDref.squeeze(0).min()\n",
    "    # CTDref=CTDref/CTDref.max()\n",
    "    noisy=ValApp.out[Slc,:,:][np.newaxis,:].squeeze(0)\n",
    "    # noisy =noisy.squeeze(0) - noisy.squeeze(0).min()\n",
    "    # noisy=noisy/noisy.max()\n",
    "\n",
    "    Oorig=ValApp.projo[Slc,:,:][np.newaxis,:].squeeze(0)\n",
    "\n",
    "    # matched = match_histograms(noisy, CTDref)\n",
    "    # d=unsharp_mask(matched, radius=4, amount=3)\n",
    "\n",
    "    # a_blur=denoise_tv_chambolle(noisy, weight=1, multichannel=False)\n",
    "    # c=noisy+(noisy-a_blur)*2\n",
    "    \n",
    "    \n",
    "    # c=unsharp_mask(noisy, radius=4, amount=3)   \n",
    "    # CTDref=unsharp_mask(CTDref, radius=3, amount=2)\n",
    "\n",
    "    e = exposure.equalize_adapthist(noisy)\n",
    "    # CTDrefforreg = exposure.equalize_adapthist(CTDref)\n",
    "    \n",
    "    \n",
    "    \n",
    "    # p5, p98 = np.percentile(noisy, (5, 98))\n",
    "    # f = exposure.rescale_intensity(noisy, in_range=(p5, p98))\n",
    "    \n",
    "    \n",
    "    \n",
    "    \n",
    "    CTSforreg=e\n",
    "    \n",
    "    RS=round(512*7/15)\n",
    "    HRS=round(RS/2)\n",
    "    x, y =np.meshgrid(np.linspace(-HRS,HRS,num=2*HRS),np.linspace(-HRS,HRS,num=2*HRS))\n",
    "    dst = np.sqrt(x*x+y*y)\n",
    "    \n",
    "    # Initializing sigma and muu\n",
    "    sigma = HRS/2-round(HRS*5/100)\n",
    "    muu = 0.000\n",
    "    \n",
    "    # Calculating Gaussian array\n",
    "    gauss = np.exp(-( (dst-muu)**2 / ( 2.0 * sigma**2 ) ) )\n",
    "    Temp=resize(ValApp.proji[Slc,:,:],(2*HRS,2*HRS))\n",
    "    # Out_Imprinted=c\n",
    "    Out_Imprinted=noisy.copy()\n",
    "    Out_Imprinted[256-HRS:256+HRS,256-HRS:256+HRS]=Temp * (gauss) + Out_Imprinted[256-HRS:256+HRS,256-HRS:256+HRS] * (1- gauss)\n",
    "    V1=Out_Imprinted[np.newaxis,:]\n",
    "    V1f[Slc,:,:]=V1\n",
    "    # # V1 =V1.squeeze(0) - V1.squeeze(0).min()\n",
    "    # # V1=V1/V1.max()\n",
    "    # # V1=V1[np.newaxis,:]\n",
    "    # V2=ValApp.out[Slc,:,:][np.newaxis,:]\n",
    "\n",
    "\n",
    "    # RR = elastixreg(CTDrefforreg,CTSforreg,V1.squeeze(0))\n",
    "    # RR = sitkreg(CTDref,V1.squeeze(0))\n",
    "\n",
    "    # sitk.Show(sitk.GetImageFromArray(Images1))\n",
    "    # RR=RR[np.newaxis,:]\n",
    "\n",
    "    # # Structural element Sphere 3x3\n",
    "    # strel = np.ones((30, 30))\n",
    "    # origin = tuple(((np.array((strel.shape))-1)/2).astype(int))\n",
    "\n",
    "    # # Pytorch tophat\n",
    "    # image_tensor = torch.tensor(RR, dtype=torch.float)\n",
    "    # strel_tensor = torch.tensor(strel, dtype=torch.bool)\n",
    "    # tophat_image_pytorch = tophat_pytorch(image_tensor, strel_tensor, origin=origin)\n",
    "    # tophat_image_pytorch=tophat_image_pytorch.numpy()\n",
    "    # tophatrec_image_pytorch = tophat_recon_pytorch(image_tensor, strel_tensor, origin=origin,k=5)\n",
    "    # tophatrec_image_pytorch=tophatrec_image_pytorch.numpy()\n",
    "\n",
    "    # # Pytorch tophatrec\n",
    "    # image_tensor = torch.tensor(CTDref[np.newaxis,:], dtype=torch.float)\n",
    "    # strel_tensor = torch.tensor(strel, dtype=torch.bool)\n",
    "    # tophat_image_pytorch_ref = tophat_pytorch(image_tensor, strel_tensor, origin=origin)\n",
    "    # tophat_image_pytorch_ref=tophat_image_pytorch_ref.numpy()\n",
    "    # tophatrec_image_pytorch_ref = tophat_recon_pytorch(image_tensor, strel_tensor, origin=origin,k=5)\n",
    "    # tophatrec_image_pytorch_ref=tophatrec_image_pytorch_ref.numpy()\n",
    "\n",
    "    # # V2=np.concatenate((CTDref[np.newaxis,:],RR,tophat_image_pytorch,tophat_image_pytorch_ref),axis=0)\n",
    "    # V2=np.concatenate((CTDref[np.newaxis,:],RR),axis=0)\n",
    "    # V2Tophat=np.concatenate((tophat_image_pytorch,tophat_image_pytorch_ref),axis=0)\n",
    "    \n",
    "\n",
    "    # # CTDplan_tophatrec[np.where(CTDplan_tophatrec<0)]=0\n",
    "    # # Out_registered_tophatrec[np.where(Out_registered_tophatrec<0)]=0\n",
    "\n",
    "    # CTDplan_tophatrec[Slc,:,:] = tophatrec_image_pytorch_ref\n",
    "    # Out_registered[Slc,:,:]=V2[1,:,:]\n",
    "    # Out_registered_tophat[Slc,:,:]=V2Tophat[0,:,:]\n",
    "    \n",
    "    # Out_registered_tophatrec[Slc,:,:]=tophatrec_image_pytorch\n",
    "    \n",
    "    # CTDplan_tophat[Slc,:,:]=V2Tophat[1,:,:]\n",
    "\n",
    "\n",
    "    # print(Slc)\n",
    "    # # sitk.Show(sitk.GetImageFromArray(V2))\n",
    "    # # sitk.Show(sitk.GetImageFromArray(V2Tophat))\n",
    "\n",
    "interact(display_images_with_alpha_numpy, image_z=(0,V1f.shape[0] - 1), alpha=(0.0,1.0,0.05), fixed = fixed(V1f), moving=fixed(out), vmin=0.4, vmax=+1.1);\n"
   ]
  },
  {
   "cell_type": "code",
   "execution_count": 42,
   "metadata": {},
   "outputs": [
    {
     "name": "stdout",
     "output_type": "stream",
     "text": [
      "0.0005715642302251058\n",
      "32.42934958155982\n",
      "0.9727949590752791\n"
     ]
    }
   ],
   "source": [
    "from skimage.metrics import structural_similarity as ssim\n",
    "from skimage.metrics import mean_squared_error as MSEE\n",
    "from skimage.metrics import peak_signal_noise_ratio as PSNR\n",
    "\n",
    "print(MSEE(ValApp.projo[1,:],ValApp.out[1,:]))\n",
    "print(PSNR(ValApp.projo[1,:],ValApp.out[1,:]))\n",
    "print(ssim(ValApp.projo[1,:],ValApp.out[1,:]))"
   ]
  },
  {
   "cell_type": "code",
   "execution_count": 39,
   "metadata": {},
   "outputs": [
    {
     "data": {
      "text/plain": [
       "(3, 512, 512)"
      ]
     },
     "execution_count": 39,
     "metadata": {},
     "output_type": "execute_result"
    }
   ],
   "source": [
    "ValApp.projo.shape"
   ]
  }
 ],
 "metadata": {
  "interpreter": {
   "hash": "97f3e9ebcf57e920bbf450b1b240a716de5542bad40a653a9cdaa91f7bc91b70"
  },
  "kernelspec": {
   "display_name": "Python 3.8.10 64-bit ('CNN': conda)",
   "name": "python3"
  },
  "language_info": {
   "codemirror_mode": {
    "name": "ipython",
    "version": 3
   },
   "file_extension": ".py",
   "mimetype": "text/x-python",
   "name": "python",
   "nbconvert_exporter": "python",
   "pygments_lexer": "ipython3",
   "version": "3.8.10"
  },
  "orig_nbformat": 4
 },
 "nbformat": 4,
 "nbformat_minor": 2
}
